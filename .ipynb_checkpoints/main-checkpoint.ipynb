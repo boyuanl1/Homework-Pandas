{
 "cells": [
  {
   "cell_type": "code",
   "execution_count": 134,
   "metadata": {
    "collapsed": true
   },
   "outputs": [],
   "source": [
    "import pandas as pd\n",
    "import numpy as np\n",
    "from IPython.display import HTML, display"
   ]
  },
  {
   "cell_type": "code",
   "execution_count": 135,
   "metadata": {},
   "outputs": [
    {
     "data": {
      "text/html": [
       "<div>\n",
       "<style>\n",
       "    .dataframe thead tr:only-child th {\n",
       "        text-align: right;\n",
       "    }\n",
       "\n",
       "    .dataframe thead th {\n",
       "        text-align: left;\n",
       "    }\n",
       "\n",
       "    .dataframe tbody tr th {\n",
       "        vertical-align: top;\n",
       "    }\n",
       "</style>\n",
       "<table border=\"1\" class=\"dataframe\">\n",
       "  <thead>\n",
       "    <tr style=\"text-align: right;\">\n",
       "      <th></th>\n",
       "      <th>Age</th>\n",
       "      <th>Gender</th>\n",
       "      <th>Item ID</th>\n",
       "      <th>Item Name</th>\n",
       "      <th>Price</th>\n",
       "      <th>SN</th>\n",
       "    </tr>\n",
       "  </thead>\n",
       "  <tbody>\n",
       "    <tr>\n",
       "      <th>0</th>\n",
       "      <td>38</td>\n",
       "      <td>Male</td>\n",
       "      <td>165</td>\n",
       "      <td>Bone Crushing Silver Skewer</td>\n",
       "      <td>3.37</td>\n",
       "      <td>Aelalis34</td>\n",
       "    </tr>\n",
       "    <tr>\n",
       "      <th>1</th>\n",
       "      <td>21</td>\n",
       "      <td>Male</td>\n",
       "      <td>119</td>\n",
       "      <td>Stormbringer, Dark Blade of Ending Misery</td>\n",
       "      <td>2.32</td>\n",
       "      <td>Eolo46</td>\n",
       "    </tr>\n",
       "    <tr>\n",
       "      <th>2</th>\n",
       "      <td>34</td>\n",
       "      <td>Male</td>\n",
       "      <td>174</td>\n",
       "      <td>Primitive Blade</td>\n",
       "      <td>2.46</td>\n",
       "      <td>Assastnya25</td>\n",
       "    </tr>\n",
       "    <tr>\n",
       "      <th>3</th>\n",
       "      <td>21</td>\n",
       "      <td>Male</td>\n",
       "      <td>92</td>\n",
       "      <td>Final Critic</td>\n",
       "      <td>1.36</td>\n",
       "      <td>Pheusrical25</td>\n",
       "    </tr>\n",
       "    <tr>\n",
       "      <th>4</th>\n",
       "      <td>23</td>\n",
       "      <td>Male</td>\n",
       "      <td>63</td>\n",
       "      <td>Stormfury Mace</td>\n",
       "      <td>1.27</td>\n",
       "      <td>Aela59</td>\n",
       "    </tr>\n",
       "  </tbody>\n",
       "</table>\n",
       "</div>"
      ],
      "text/plain": [
       "   Age Gender  Item ID                                  Item Name  Price  \\\n",
       "0   38   Male      165                Bone Crushing Silver Skewer   3.37   \n",
       "1   21   Male      119  Stormbringer, Dark Blade of Ending Misery   2.32   \n",
       "2   34   Male      174                            Primitive Blade   2.46   \n",
       "3   21   Male       92                               Final Critic   1.36   \n",
       "4   23   Male       63                             Stormfury Mace   1.27   \n",
       "\n",
       "             SN  \n",
       "0     Aelalis34  \n",
       "1        Eolo46  \n",
       "2   Assastnya25  \n",
       "3  Pheusrical25  \n",
       "4        Aela59  "
      ]
     },
     "execution_count": 135,
     "metadata": {},
     "output_type": "execute_result"
    }
   ],
   "source": [
    "df = pd.read_json('purchase_data.json')\n",
    "df.head()"
   ]
  },
  {
   "cell_type": "code",
   "execution_count": 136,
   "metadata": {},
   "outputs": [
    {
     "data": {
      "text/html": [
       "<table><tr><td>Total Number of Players: </td></tr><tr><td>573</td></tr></table>"
      ],
      "text/plain": [
       "<IPython.core.display.HTML object>"
      ]
     },
     "metadata": {},
     "output_type": "display_data"
    }
   ],
   "source": [
    "total_players = len(df[\"SN\"].value_counts())\n",
    "data1 = [\n",
    "    [\"Total Number of Players: \"],\n",
    "    [total_players],\n",
    "    ]\n",
    "\n",
    "display(HTML('<table><tr>{}</tr></table>'.format('</tr><tr>'.join('<td>{}</td>'.format('</td><td>'.join(str(_) for _ in row)) for row in data1))))"
   ]
  },
  {
   "cell_type": "code",
   "execution_count": 137,
   "metadata": {},
   "outputs": [
    {
     "data": {
      "text/html": [
       "<table><tr><td>Number of Unique Items: </td><td>Average Purchase Price: </td><td>Total Number of Purchases: </td><td>Total Revenue: </td></tr><tr><td>183</td><td>2.93</td><td>780</td><td>2286.33</td></tr></table>"
      ],
      "text/plain": [
       "<IPython.core.display.HTML object>"
      ]
     },
     "metadata": {},
     "output_type": "display_data"
    }
   ],
   "source": [
    "unique_items = len(df[\"Item ID\"].value_counts())\n",
    "average_price = round(df[\"Price\"].mean(), 2)\n",
    "total_purchases = df.count()[0]\n",
    "total_revenue = round(df[\"Price\"].sum(), 2)\n",
    "\n",
    "data2 = [\n",
    "    [\"Number of Unique Items: \", \"Average Purchase Price: \", \"Total Number of Purchases: \", \"Total Revenue: \"],\n",
    "    [unique_items, average_price, total_purchases, total_revenue],\n",
    "    ]\n",
    "\n",
    "display(HTML('<table><tr>{}</tr></table>'.format('</tr><tr>'.join('<td>{}</td>'.format('</td><td>'.join(str(_) for _ in row)) for row in data2))))"
   ]
  },
  {
   "cell_type": "code",
   "execution_count": 138,
   "metadata": {},
   "outputs": [
    {
     "data": {
      "text/html": [
       "<table><tr><td></td><td>Percentage</td><td>Count</td></tr><tr><td>Male</td><td>81.0%</td><td>465</td></tr><tr><td>Female</td><td>17.0%</td><td>100</td></tr><tr><td>Other</td><td>1.0%</td><td>8</td></tr></table>"
      ],
      "text/plain": [
       "<IPython.core.display.HTML object>"
      ]
     },
     "metadata": {},
     "output_type": "display_data"
    }
   ],
   "source": [
    "group_gender = df.groupby(by=\"Gender\")\n",
    "[female_count, male_count, other_count] = group_gender[\"SN\"].nunique()\n",
    "male_pct = male_count/(male_count + female_count + other_count)\n",
    "female_pct = female_count/(male_count + female_count + other_count)\n",
    "other_pct = other_count/(male_count + female_count + other_count)\n",
    "\n",
    "data3 = [\n",
    "    [\"\",\"Percentage\",\"Count\"],\n",
    "    [\"Male\", str(round(male_pct*100)) + \"%\", male_count],\n",
    "    [\"Female\", str(round(female_pct*100)) + \"%\", female_count],\n",
    "    [\"Other\", str(round(other_pct*100)) + \"%\", other_count],\n",
    "    ]\n",
    "\n",
    "display(HTML('<table><tr>{}</tr></table>'.format('</tr><tr>'.join('<td>{}</td>'.format('</td><td>'.join(str(_) for _ in row)) for row in data3))))"
   ]
  },
  {
   "cell_type": "code",
   "execution_count": 143,
   "metadata": {},
   "outputs": [
    {
     "data": {
      "text/html": [
       "<table><tr><td></td><td>Purchase Count</td><td>Average Purchase Price</td><td>Total Purchase Value</td><td>Normalized Totals</td></tr><tr><td>Male</td><td>633</td><td>2.95</td><td>1867.68</td><td>4.02</td></tr><tr><td>Female</td><td>136</td><td>2.82</td><td>382.91</td><td>3.83</td></tr><tr><td>Other</td><td>11</td><td>3.25</td><td>35.74</td><td>4.47</td></tr></table>"
      ],
      "text/plain": [
       "<IPython.core.display.HTML object>"
      ]
     },
     "metadata": {},
     "output_type": "display_data"
    }
   ],
   "source": [
    "[female_purchase, male_purchase, other_purchase] = group_gender[\"Age\"].count()\n",
    "[female_avg, male_avg, other_avg] = group_gender[\"Price\"].mean()\n",
    "[female_revenue, male_revenue, other_revenue] = group_gender[\"Price\"].sum()\n",
    "\n",
    "data4 = [\n",
    "    [\"\", \"Purchase Count\", \"Average Purchase Price\", \"Total Purchase Value\", \"Normalized Totals\"],\n",
    "    [\"Male\", male_purchase, round(male_avg, 2), male_revenue, round(male_revenue/male_count, 2)],\n",
    "    [\"Female\", female_purchase, round(female_avg, 2), female_revenue, round(female_revenue/female_count, 2)],\n",
    "    [\"Other\", other_purchase, round(other_avg, 2), other_revenue, round(other_revenue/other_count, 2)],\n",
    "    ]\n",
    "\n",
    "display(HTML('<table><tr>{}</tr></table>'.format('</tr><tr>'.join('<td>{}</td>'.format('</td><td>'.join(str(_) for _ in row)) for row in data4))))\n"
   ]
  },
  {
   "cell_type": "code",
   "execution_count": 152,
   "metadata": {},
   "outputs": [
    {
     "data": {
      "text/html": [
       "<table><tr><td>Age</td><td>Purchase Count</td><td>Average Purchase Price</td><td>Total Purchase Value</td><td>Normalized Totals</td></tr><tr><td>0-10</td><td>32</td><td>3.02</td><td>96.62</td><td>4.39</td></tr><tr><td>11-20</td><td>262</td><td>2.87</td><td>752.89</td><td>3.9</td></tr><tr><td>21-30</td><td>381</td><td>2.95</td><td>1122.43</td><td>3.92</td></tr><tr><td>31-40</td><td>102</td><td>3.0</td><td>305.75</td><td>4.43</td></tr><tr><td>41-50</td><td>3</td><td>2.88</td><td>8.64</td><td>2.88</td></tr></table>"
      ],
      "text/plain": [
       "<IPython.core.display.HTML object>"
      ]
     },
     "metadata": {},
     "output_type": "display_data"
    }
   ],
   "source": [
    "bins = [0, 10, 20, 30, 40, 50]\n",
    "labels = [\"0-10\", \"11-20\", \"21-30\", \"31-40\", \"41-50\"]\n",
    "df[\"Age Group\"] = pd.cut(df[\"Age\"], bins, labels=labels)\n",
    "group_age = df.groupby(by=\"Age Group\")\n",
    "[count_0, count_10, count_20, count_30, count_40] = group_age[\"SN\"].nunique()\n",
    "[purchase_0, purchase_10, purchase_20, purchase_30, purchase_40] = group_age[\"SN\"].count()\n",
    "[avg_0, avg_10, avg_20, avg_30, avg_40] = group_age[\"Price\"].mean()\n",
    "[sum_0, sum_10, sum_20, sum_30, sum_40] = group_age[\"Price\"].sum()\n",
    "\n",
    "data5 = [\n",
    "    [\"Age\", \"Purchase Count\", \"Average Purchase Price\", \"Total Purchase Value\", \"Normalized Totals\"],\n",
    "    [\"0-10\", purchase_0, round(avg_0, 2), sum_0, round(sum_0/count_0, 2)],\n",
    "    [\"11-20\", purchase_10, round(avg_10, 2), sum_10, round(sum_10/count_10, 2)],\n",
    "    [\"21-30\", purchase_20, round(avg_20, 2), sum_20, round(sum_20/count_20, 2)],\n",
    "    [\"31-40\", purchase_30, round(avg_30, 2), sum_30, round(sum_30/count_30, 2)],\n",
    "    [\"41-50\", purchase_40, round(avg_40, 2), sum_40, round(sum_40/count_40, 2)],\n",
    "    ]\n",
    "\n",
    "display(HTML('<table><tr>{}</tr></table>'.format('</tr><tr>'.join('<td>{}</td>'.format('</td><td>'.join(str(_) for _ in row)) for row in data5))))\n",
    "\n"
   ]
  },
  {
   "cell_type": "code",
   "execution_count": 213,
   "metadata": {},
   "outputs": [
    {
     "data": {
      "text/html": [
       "<table><tr><td>SN</td><td>Purchase Count</td><td>Average Purchase Price</td><td>Total Purchase Value</td></tr><tr><td>Undirrala66</td><td>5</td><td>3.41</td><td>17.06</td></tr><tr><td>Saedue76</td><td>4</td><td>3.39</td><td>13.56</td></tr><tr><td>Mindimnya67</td><td>4</td><td>3.18</td><td>12.74</td></tr><tr><td>Haellysu29</td><td>3</td><td>4.24</td><td>12.73</td></tr><tr><td>Eoda93</td><td>3</td><td>3.86</td><td>11.58</td></tr></table>"
      ],
      "text/plain": [
       "<IPython.core.display.HTML object>"
      ]
     },
     "metadata": {},
     "output_type": "display_data"
    }
   ],
   "source": [
    "group_top = df.groupby(by=\"SN\")\n",
    "spender5 = group_top[\"Price\"].sum().sort_values(ascending=False)[0:5]\n",
    "# spender5.index[0:5]\n",
    "#group_top.count().loc[spender5.index[0]][0]\n",
    "\n",
    "data6 = [\n",
    "    [\"SN\", \"Purchase Count\", \"Average Purchase Price\", \"Total Purchase Value\"],\n",
    "    [spender5.index[0], group_top.count().loc[spender5.index[0]][0], round(spender5[0]/group_top.count().loc[spender5.index[0]][0], 2), spender5[0]],\n",
    "    [spender5.index[1], group_top.count().loc[spender5.index[1]][0], round(spender5[1]/group_top.count().loc[spender5.index[1]][0], 2), spender5[1]],\n",
    "    [spender5.index[2], group_top.count().loc[spender5.index[2]][0], round(spender5[2]/group_top.count().loc[spender5.index[2]][0], 2), spender5[2]],\n",
    "    [spender5.index[3], group_top.count().loc[spender5.index[3]][0], round(spender5[3]/group_top.count().loc[spender5.index[4]][0], 2), spender5[3]],\n",
    "    [spender5.index[4], group_top.count().loc[spender5.index[4]][0], round(spender5[4]/group_top.count().loc[spender5.index[4]][0], 2), spender5[4]],\n",
    "    ]\n",
    "\n",
    "display(HTML('<table><tr>{}</tr></table>'.format('</tr><tr>'.join('<td>{}</td>'.format('</td><td>'.join(str(_) for _ in row)) for row in data6))))"
   ]
  },
  {
   "cell_type": "code",
   "execution_count": 241,
   "metadata": {},
   "outputs": [
    {
     "data": {
      "text/html": [
       "<table><tr><td>Item Name</td><td>Purchase Count</td></tr><tr><td>Final Critic</td><td>14</td></tr><tr><td>Betrayal, Whisper of Grieving Widows</td><td>11</td></tr><tr><td>Arcane Gem</td><td>11</td></tr><tr><td>Stormcaller</td><td>10</td></tr><tr><td>Woeful Adamantite Claymore</td><td>9</td></tr></table>"
      ],
      "text/plain": [
       "<IPython.core.display.HTML object>"
      ]
     },
     "metadata": {},
     "output_type": "display_data"
    }
   ],
   "source": [
    "group_pop = df.groupby(by=\"Item Name\")\n",
    "pop5 = group_pop[\"Item ID\"].count().sort_values(ascending=False)[0:5]\n",
    "\n",
    "data7 = [\n",
    "    [\"Item Name\", \"Purchase Count\"],\n",
    "    [pop5.index[0], group_pop.count().loc[pop5.index[0]][0]],\n",
    "    [pop5.index[1], group_pop.count().loc[pop5.index[1]][0]],\n",
    "    [pop5.index[2], group_pop.count().loc[pop5.index[2]][0]],\n",
    "    [pop5.index[3], group_pop.count().loc[pop5.index[3]][0]],\n",
    "    [pop5.index[4], group_pop.count().loc[pop5.index[4]][0]],\n",
    "    ]\n",
    "\n",
    "display(HTML('<table><tr>{}</tr></table>'.format('</tr><tr>'.join('<td>{}</td>'.format('</td><td>'.join(str(_) for _ in row)) for row in data7))))"
   ]
  },
  {
   "cell_type": "code",
   "execution_count": 240,
   "metadata": {},
   "outputs": [
    {
     "data": {
      "text/html": [
       "<table><tr><td>Item Name</td><td>Total Purchase Value</td></tr><tr><td>Final Critic</td><td>38.6</td></tr><tr><td>Retribution Axe</td><td>37.26</td></tr><tr><td>Stormcaller</td><td>34.65</td></tr><tr><td>Spectral Diamond Doomblade</td><td>29.75</td></tr><tr><td>Orenmir</td><td>29.7</td></tr></table>"
      ],
      "text/plain": [
       "<IPython.core.display.HTML object>"
      ]
     },
     "metadata": {},
     "output_type": "display_data"
    }
   ],
   "source": [
    "sum5 = group_pop[\"Price\"].sum().sort_values(ascending=False)[0:5]\n",
    "data7 = [\n",
    "    [\"Item Name\", \"Total Purchase Value\"],\n",
    "    [sum5.index[0], sum5[0]],\n",
    "    [sum5.index[1], sum5[1]],\n",
    "    [sum5.index[2], sum5[2]],\n",
    "    [sum5.index[3], sum5[3]],\n",
    "    [sum5.index[4], sum5[4]],\n",
    "    ]\n",
    "\n",
    "display(HTML('<table><tr>{}</tr></table>'.format('</tr><tr>'.join('<td>{}</td>'.format('</td><td>'.join(str(_) for _ in row)) for row in data7))))"
   ]
  },
  {
   "cell_type": "code",
   "execution_count": null,
   "metadata": {
    "collapsed": true
   },
   "outputs": [],
   "source": []
  }
 ],
 "metadata": {
  "kernelspec": {
   "display_name": "Python 3",
   "language": "python",
   "name": "python3"
  },
  "language_info": {
   "codemirror_mode": {
    "name": "ipython",
    "version": 3
   },
   "file_extension": ".py",
   "mimetype": "text/x-python",
   "name": "python",
   "nbconvert_exporter": "python",
   "pygments_lexer": "ipython3",
   "version": "3.6.3"
  }
 },
 "nbformat": 4,
 "nbformat_minor": 2
}
