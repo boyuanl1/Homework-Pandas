{
 "cells": [
  {
   "cell_type": "code",
   "execution_count": 134,
   "metadata": {
    "collapsed": true
   },
   "outputs": [],
   "source": [
    "import pandas as pd\n",
    "import numpy as np\n",
    "from IPython.display import HTML, display"
   ]
  },
  {
   "cell_type": "code",
   "execution_count": 135,
   "metadata": {},
   "outputs": [
    {
     "data": {
      "text/html": [
       "<div>\n",
       "<style>\n",
       "    .dataframe thead tr:only-child th {\n",
       "        text-align: right;\n",
       "    }\n",
       "\n",
       "    .dataframe thead th {\n",
       "        text-align: left;\n",
       "    }\n",
       "\n",
       "    .dataframe tbody tr th {\n",
       "        vertical-align: top;\n",
       "    }\n",
       "</style>\n",
       "<table border=\"1\" class=\"dataframe\">\n",
       "  <thead>\n",
       "    <tr style=\"text-align: right;\">\n",
       "      <th></th>\n",
       "      <th>Age</th>\n",
       "      <th>Gender</th>\n",
       "      <th>Item ID</th>\n",
       "      <th>Item Name</th>\n",
       "      <th>Price</th>\n",
       "      <th>SN</th>\n",
       "    </tr>\n",
       "  </thead>\n",
       "  <tbody>\n",
       "    <tr>\n",
       "      <th>0</th>\n",
       "      <td>38</td>\n",
       "      <td>Male</td>\n",
       "      <td>165</td>\n",
       "      <td>Bone Crushing Silver Skewer</td>\n",
       "      <td>3.37</td>\n",
       "      <td>Aelalis34</td>\n",
       "    </tr>\n",
       "    <tr>\n",
       "      <th>1</th>\n",
       "      <td>21</td>\n",
       "      <td>Male</td>\n",
       "      <td>119</td>\n",
       "      <td>Stormbringer, Dark Blade of Ending Misery</td>\n",
       "      <td>2.32</td>\n",
       "      <td>Eolo46</td>\n",
       "    </tr>\n",
       "    <tr>\n",
       "      <th>2</th>\n",
       "      <td>34</td>\n",
       "      <td>Male</td>\n",
       "      <td>174</td>\n",
       "      <td>Primitive Blade</td>\n",
       "      <td>2.46</td>\n",
       "      <td>Assastnya25</td>\n",
       "    </tr>\n",
       "    <tr>\n",
       "      <th>3</th>\n",
       "      <td>21</td>\n",
       "      <td>Male</td>\n",
       "      <td>92</td>\n",
       "      <td>Final Critic</td>\n",
       "      <td>1.36</td>\n",
       "      <td>Pheusrical25</td>\n",
       "    </tr>\n",
       "    <tr>\n",
       "      <th>4</th>\n",
       "      <td>23</td>\n",
       "      <td>Male</td>\n",
       "      <td>63</td>\n",
       "      <td>Stormfury Mace</td>\n",
       "      <td>1.27</td>\n",
       "      <td>Aela59</td>\n",
       "    </tr>\n",
       "  </tbody>\n",
       "</table>\n",
       "</div>"
      ],
      "text/plain": [
       "   Age Gender  Item ID                                  Item Name  Price  \\\n",
       "0   38   Male      165                Bone Crushing Silver Skewer   3.37   \n",
       "1   21   Male      119  Stormbringer, Dark Blade of Ending Misery   2.32   \n",
       "2   34   Male      174                            Primitive Blade   2.46   \n",
       "3   21   Male       92                               Final Critic   1.36   \n",
       "4   23   Male       63                             Stormfury Mace   1.27   \n",
       "\n",
       "             SN  \n",
       "0     Aelalis34  \n",
       "1        Eolo46  \n",
       "2   Assastnya25  \n",
       "3  Pheusrical25  \n",
       "4        Aela59  "
      ]
     },
     "execution_count": 135,
     "metadata": {},
     "output_type": "execute_result"
    }
   ],
   "source": [
    "df = pd.read_json('purchase_data.json')\n",
    "df.head()"
   ]
  },
  {
   "cell_type": "code",
   "execution_count": 136,
   "metadata": {},
   "outputs": [
    {
     "data": {
      "text/html": [
       "<table><tr><td>Total Number of Players: </td></tr><tr><td>573</td></tr></table>"
      ],
      "text/plain": [
       "<IPython.core.display.HTML object>"
      ]
     },
     "metadata": {},
     "output_type": "display_data"
    }
   ],
   "source": [
    "total_players = len(df[\"SN\"].value_counts())\n",
    "data1 = [\n",
    "    [\"Total Number of Players: \"],\n",
    "    [total_players],\n",
    "    ]\n",
    "\n",
    "display(HTML('<table><tr>{}</tr></table>'.format('</tr><tr>'.join('<td>{}</td>'.format('</td><td>'.join(str(_) for _ in row)) for row in data1))))"
   ]
  },
  {
   "cell_type": "code",
   "execution_count": 137,
   "metadata": {},
   "outputs": [
    {
     "data": {
      "text/html": [
       "<table><tr><td>Number of Unique Items: </td><td>Average Purchase Price: </td><td>Total Number of Purchases: </td><td>Total Revenue: </td></tr><tr><td>183</td><td>2.93</td><td>780</td><td>2286.33</td></tr></table>"
      ],
      "text/plain": [
       "<IPython.core.display.HTML object>"
      ]
     },
     "metadata": {},
     "output_type": "display_data"
    }
   ],
   "source": [
    "unique_items = len(df[\"Item ID\"].value_counts())\n",
    "average_price = round(df[\"Price\"].mean(), 2)\n",
    "total_purchases = df.count()[0]\n",
    "total_revenue = round(df[\"Price\"].sum(), 2)\n",
    "\n",
    "data2 = [\n",
    "    [\"Number of Unique Items: \", \"Average Purchase Price: \", \"Total Number of Purchases: \", \"Total Revenue: \"],\n",
    "    [unique_items, average_price, total_purchases, total_revenue],\n",
    "    ]\n",
    "\n",
    "display(HTML('<table><tr>{}</tr></table>'.format('</tr><tr>'.join('<td>{}</td>'.format('</td><td>'.join(str(_) for _ in row)) for row in data2))))"
   ]
  },
  {
   "cell_type": "code",
   "execution_count": 138,
   "metadata": {},
   "outputs": [
    {
     "data": {
      "text/html": [
       "<table><tr><td></td><td>Percentage</td><td>Count</td></tr><tr><td>Male</td><td>81.0%</td><td>465</td></tr><tr><td>Female</td><td>17.0%</td><td>100</td></tr><tr><td>Other</td><td>1.0%</td><td>8</td></tr></table>"
      ],
      "text/plain": [
       "<IPython.core.display.HTML object>"
      ]
     },
     "metadata": {},
     "output_type": "display_data"
    }
   ],
   "source": [
    "group_gender = df.groupby(by=\"Gender\")\n",
    "[female_count, male_count, other_count] = group_gender[\"SN\"].nunique()\n",
    "male_pct = male_count/(male_count + female_count + other_count)\n",
    "female_pct = female_count/(male_count + female_count + other_count)\n",
    "other_pct = other_count/(male_count + female_count + other_count)\n",
    "\n",
    "data3 = [\n",
    "    [\"\",\"Percentage\",\"Count\"],\n",
    "    [\"Male\", str(round(male_pct*100)) + \"%\", male_count],\n",
    "    [\"Female\", str(round(female_pct*100)) + \"%\", female_count],\n",
    "    [\"Other\", str(round(other_pct*100)) + \"%\", other_count],\n",
    "    ]\n",
    "\n",
    "display(HTML('<table><tr>{}</tr></table>'.format('</tr><tr>'.join('<td>{}</td>'.format('</td><td>'.join(str(_) for _ in row)) for row in data3))))"
   ]
  },
  {
   "cell_type": "code",
   "execution_count": 141,
   "metadata": {},
   "outputs": [
    {
     "data": {
      "text/html": [
       "<table><tr><td></td><td>Purchase Count</td><td>Average Purchase Price</td><td>Total Purchase Value</td></tr><tr><td>Male</td><td>633</td><td>2.95</td><td>1867.68</td></tr><tr><td>Female</td><td>136</td><td>2.82</td><td>382.91</td></tr><tr><td>Other</td><td>11</td><td>3.25</td><td>35.74</td></tr></table>"
      ],
      "text/plain": [
       "<IPython.core.display.HTML object>"
      ]
     },
     "metadata": {},
     "output_type": "display_data"
    }
   ],
   "source": [
    "[female_purchase, male_purchase, other_purchase] = group_gender[\"Age\"].count()\n",
    "[female_avg, male_avg, other_avg] = group_gender[\"Price\"].mean()\n",
    "[female_revenue, male_revenue, other_revenue] = group_gender[\"Price\"].sum()\n",
    "\n",
    "data4 = [\n",
    "    [\"\", \"Purchase Count\", \"Average Purchase Price\", \"Total Purchase Value\"],\n",
    "    [\"Male\", male_purchase, round(male_avg, 2), male_revenue],\n",
    "    [\"Female\", female_purchase, round(female_avg, 2), female_revenue],\n",
    "    [\"Other\", other_purchase, round(other_avg, 2), other_revenue],\n",
    "    ]\n",
    "\n",
    "display(HTML('<table><tr>{}</tr></table>'.format('</tr><tr>'.join('<td>{}</td>'.format('</td><td>'.join(str(_) for _ in row)) for row in data4))))\n"
   ]
  },
  {
   "cell_type": "code",
   "execution_count": 86,
   "metadata": {},
   "outputs": [],
   "source": [
    "\n"
   ]
  },
  {
   "cell_type": "code",
   "execution_count": null,
   "metadata": {
    "collapsed": true
   },
   "outputs": [],
   "source": []
  }
 ],
 "metadata": {
  "kernelspec": {
   "display_name": "Python 3",
   "language": "python",
   "name": "python3"
  },
  "language_info": {
   "codemirror_mode": {
    "name": "ipython",
    "version": 3
   },
   "file_extension": ".py",
   "mimetype": "text/x-python",
   "name": "python",
   "nbconvert_exporter": "python",
   "pygments_lexer": "ipython3",
   "version": "3.6.3"
  }
 },
 "nbformat": 4,
 "nbformat_minor": 2
}
